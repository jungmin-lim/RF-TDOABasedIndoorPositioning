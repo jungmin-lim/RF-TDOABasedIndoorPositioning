{
  "nbformat": 4,
  "nbformat_minor": 0,
  "metadata": {
    "colab": {
      "name": "linear_regression.ipynb",
      "provenance": [],
      "collapsed_sections": []
    },
    "kernelspec": {
      "name": "python3",
      "display_name": "Python 3"
    },
    "language_info": {
      "name": "python"
    }
  },
  "cells": [
    {
      "cell_type": "code",
      "metadata": {
        "colab": {
          "base_uri": "https://localhost:8080/",
          "height": 1000
        },
        "id": "URDNlp1AS4Ay",
        "outputId": "7797d78f-bd91-45b7-db5f-2416c8477a9e"
      },
      "source": [
        "import numpy as np\n",
        "\n",
        "from tensorflow.keras.models import Sequential \n",
        "from tensorflow.keras.layers import Dense \n",
        "from tensorflow.keras import optimizers\n",
        "import matplotlib.pyplot as plt\n",
        "\n",
        "#1nanosec : 30cm ... speed of light\n",
        "x_data=np.array([6683083,57083962,46751529,4,5,6]) #nanosec\n",
        "y_data=np.array([5656,2200,5310,40,50,60]) #mm \n",
        "\n",
        "epoch=20\n",
        "\n",
        "model=Sequential()\n",
        "model.add(Dense(1,input_dim=1,activation='linear'))\n",
        "\n",
        "#adam=optimizers.Adam(learning_rate=0.01)\n",
        "model.compile(loss='mse',optimizer=sgd,metrics=['accuracy'])\n",
        "\n",
        "history=model.fit(x_data,\n",
        "                  y_data,\n",
        "                  epochs=epoch,\n",
        "                  batch_size=1,\n",
        "                  shuffle=False,\n",
        "                  verbose=1)\n",
        "\n",
        "print(model.predict([7]))\n",
        "model.summary()\n",
        "\n",
        "plt.plot(history.history['accuracy']) \n",
        "plt.plot(history.history['loss']) \n",
        "plt.title('Model accuracy') \n",
        "plt.ylabel('Accuracy') \n",
        "plt.xlabel('Epoch') \n",
        "plt.legend(['Accuracy', 'Loss'], loc='upper left') \n",
        "plt.savefig('tran_result.png') \n",
        "#plt.show()\n"
      ],
      "execution_count": null,
      "outputs": [
        {
          "output_type": "stream",
          "name": "stdout",
          "text": [
            "Epoch 1/20\n",
            "6/6 [==============================] - 0s 2ms/step - loss: 484.4632 - accuracy: 0.0000e+00\n",
            "Epoch 2/20\n",
            "6/6 [==============================] - 0s 2ms/step - loss: 2.1098 - accuracy: 0.0000e+00\n",
            "Epoch 3/20\n",
            "6/6 [==============================] - 0s 2ms/step - loss: 1.3908 - accuracy: 0.0000e+00\n",
            "Epoch 4/20\n",
            "6/6 [==============================] - 0s 2ms/step - loss: 1.3786 - accuracy: 0.0000e+00\n",
            "Epoch 5/20\n",
            "6/6 [==============================] - 0s 3ms/step - loss: 1.3188 - accuracy: 0.0000e+00\n",
            "Epoch 6/20\n",
            "6/6 [==============================] - 0s 3ms/step - loss: 1.2587 - accuracy: 0.0000e+00\n",
            "Epoch 7/20\n",
            "6/6 [==============================] - 0s 2ms/step - loss: 1.2011 - accuracy: 0.0000e+00\n",
            "Epoch 8/20\n",
            "6/6 [==============================] - 0s 2ms/step - loss: 1.1462 - accuracy: 0.0000e+00\n",
            "Epoch 9/20\n",
            "6/6 [==============================] - 0s 3ms/step - loss: 1.0938 - accuracy: 0.0000e+00\n",
            "Epoch 10/20\n",
            "6/6 [==============================] - 0s 2ms/step - loss: 1.0438 - accuracy: 0.0000e+00\n",
            "Epoch 11/20\n",
            "6/6 [==============================] - 0s 2ms/step - loss: 0.9960 - accuracy: 0.0000e+00\n",
            "Epoch 12/20\n",
            "6/6 [==============================] - 0s 2ms/step - loss: 0.9505 - accuracy: 0.0000e+00\n",
            "Epoch 13/20\n",
            "6/6 [==============================] - 0s 2ms/step - loss: 0.9070 - accuracy: 0.0000e+00\n",
            "Epoch 14/20\n",
            "6/6 [==============================] - 0s 2ms/step - loss: 0.8655 - accuracy: 0.0000e+00\n",
            "Epoch 15/20\n",
            "6/6 [==============================] - 0s 2ms/step - loss: 0.8260 - accuracy: 0.0000e+00\n",
            "Epoch 16/20\n",
            "6/6 [==============================] - 0s 3ms/step - loss: 0.7882 - accuracy: 0.0000e+00\n",
            "Epoch 17/20\n",
            "6/6 [==============================] - 0s 2ms/step - loss: 0.7521 - accuracy: 0.0000e+00\n",
            "Epoch 18/20\n",
            "6/6 [==============================] - 0s 3ms/step - loss: 0.7177 - accuracy: 0.0000e+00\n",
            "Epoch 19/20\n",
            "6/6 [==============================] - 0s 3ms/step - loss: 0.6849 - accuracy: 0.0000e+00\n",
            "Epoch 20/20\n",
            "6/6 [==============================] - 0s 3ms/step - loss: 0.6536 - accuracy: 0.0000e+00\n",
            "[[69.53914]]\n",
            "Model: \"sequential_12\"\n",
            "_________________________________________________________________\n",
            "Layer (type)                 Output Shape              Param #   \n",
            "=================================================================\n",
            "dense_11 (Dense)             (None, 1)                 2         \n",
            "=================================================================\n",
            "Total params: 2\n",
            "Trainable params: 2\n",
            "Non-trainable params: 0\n",
            "_________________________________________________________________\n"
          ]
        },
        {
          "output_type": "display_data",
          "data": {
            "image/png": "[encoded data removed]",
            "text/plain": [
              "<Figure size 432x288 with 1 Axes>"
            ]
          },
          "metadata": {
            "needs_background": "light"
          }
        }
      ]
    },
    {
      "cell_type": "code",
      "metadata": {
        "colab": {
          "base_uri": "https://localhost:8080/"
        },
        "id": "qXvHaGj1Fc3D",
        "outputId": "691fc3d6-a884-492a-8369-0bc1415fead9"
      },
      "source": [
        "from sklearn.linear_model import LinearRegression\n",
        "\n",
        "print(x_data.shape)\n",
        "x_data=x_data.reshape(-1,1)\n",
        "y_data=y_data.reshape(-1,1)\n",
        "\n",
        "reg = LinearRegression()\n",
        "reg.fit(x_data,y_data)\n",
        "print(reg.score(x_data,y_data))\n",
        "print(reg.coef_,reg.intercept_)\n",
        "\n",
        "test=np.array([7,8,9,10])\n",
        "test=test.reshape(-1,1)\n",
        "print(reg.predict(test))"
      ],
      "execution_count": null,
      "outputs": [
        {
          "output_type": "stream",
          "name": "stdout",
          "text": [
            "(6, 1)\n",
            "1.0\n",
            "[[10.]] [0.]\n",
            "[[ 70.]\n",
            " [ 80.]\n",
            " [ 90.]\n",
            " [100.]]\n"
          ]
        }
      ]
    }
  ]
}